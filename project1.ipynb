{
  "cells": [
    {
      "cell_type": "markdown",
      "metadata": {
        "id": "SpXyjTWlBOBy"
      },
      "source": [
        "# Trabalho 1\n",
        "\n",
        "Cálculo Numérico - SME0104\n",
        "\n",
        "Professora Cynthia Lage Ferreira\n",
        "\n",
        "Alunos:\n",
        "* João Pedro Buzzo Silva\n",
        "* Miguel Bragante Henriques"
      ]
    },
    {
      "cell_type": "code",
      "execution_count": null,
      "metadata": {
        "id": "sgSZ_MHs_7xj"
      },
      "outputs": [],
      "source": [
        "import numpy as np\n",
        "import time\n",
        "import matplotlib.pyplot as plt"
      ]
    },
    {
      "cell_type": "markdown",
      "metadata": {
        "id": "aqJOSCmUBXQP"
      },
      "source": [
        "## Exercício 1"
      ]
    },
    {
      "cell_type": "code",
      "execution_count": null,
      "metadata": {
        "id": "JQrQefSz9Ty3"
      },
      "outputs": [],
      "source": [
        "##\n",
        "# A função func1 recebe uma matriz A e realiza a decomposição LU dela,\n",
        "# retornando as matrizes L e U obtidas.\n",
        "##\n",
        "def func1(A):\n",
        "  # Obtendo parâmetros iniciais para a decomposição LU\n",
        "  n = A.shape[0] # Número de linhas da matriz A\n",
        "  U = A.copy() # Cópia de A\n",
        "  L = np.eye(n) # Matriz identidade n x n\n",
        "\n",
        "  # Fazendo a decomposição LU considerando TODOS os termos de A.\n",
        "  # Calcula até sobre os termos nulos de A, que são muitos a mais do que\n",
        "  # os não-nulos\n",
        "  for j in range(n - 1):\n",
        "    for i in range(j + 1, n):\n",
        "      L[i, j] = U[i ,j]/U[j ,j]\n",
        "      U[i ,j: n] = U[i, j: n] - L[i, j]*U[j, j: n]\n",
        "  return L, U\n",
        "\n",
        "##\n",
        "# A função func2 recebe um limitador p e uma matriz A, retornando as\n",
        "# matrizes L e U da sua decomposição LU.\n",
        "# O limitador é responsável por reduzir o espaço de iterações dos loops\n",
        "# da decomposição LU.\n",
        "##\n",
        "def func2(A, p):\n",
        "  n = A.shape[0]\n",
        "  U = A.copy()\n",
        "  L = np.eye(n)\n",
        "\n",
        "  # O primeiro loop mantém-se inalterado\n",
        "  for j in range(n - 1):\n",
        "    ##\n",
        "    # O cálculo de v leva em conta o limitador p. Não é interessante\n",
        "    # calcular os termos de L e U para além desse limite j+p+1, pois\n",
        "    # é dado que a matriz A possui termos nulos nas posições j+p+k,\n",
        "    # com k = 2, 3, ...\n",
        "    # Dessa forma, o loop fica significativamente mais eficiente\n",
        "    # com n grande.\n",
        "    ##\n",
        "    v = min(n, j + p + 1)\n",
        "\n",
        "    # O loop então leva enconta apenas os termos não-nulos de A\n",
        "    for i in range(j + 1, v):\n",
        "      L[i, j] = U[i, j]/U[j, j]\n",
        "      U[i, j: v] = U[i, j: v] - L[i, j]*U[j, j: v]\n",
        "  return L, U"
      ]
    },
    {
      "cell_type": "code",
      "execution_count": null,
      "metadata": {
        "colab": {
          "base_uri": "https://localhost:8080/"
        },
        "id": "iZetkOHo_CLq",
        "outputId": "e9f14eca-3c81-455e-9dc7-79c36ca5c36a"
      },
      "outputs": [
        {
          "name": "stdout",
          "output_type": "stream",
          "text": [
            "Tempo da LU: 19.28245973587036\n",
            "Tempo da LU limitada: 0.07775664329528809\n",
            "7.39986656100952e-12\n",
            "7.39986656100952e-12\n"
          ]
        }
      ],
      "source": [
        "# Exemplo\n",
        "n = 2000\n",
        "p = 2\n",
        "A = np.zeros((n, n)) # Matriz inicial nula\n",
        "\n",
        "# Matriz n x n aleatória\n",
        "for i in range(n):\n",
        "  ##\n",
        "  # O loop abaixo limita uma vizinhança para a diagonal\n",
        "  # de A. Seja A_kk elemento da diagonal, todo elemento\n",
        "  # no intervalo [k-p, k+p] é não-nulo. Se o elemento esta\n",
        "  # fora do intervalo, ele não é recalculado e, portanto,\n",
        "  # é nulo.\n",
        "  ##\n",
        "  for j in range(max(0, i - p), min(n, i + p + 1)):\n",
        "    A[i, j] = np.random.normal()\n",
        "\n",
        "# Utilizando a função 1 e obtendo o tempo de execução\n",
        "starttime = time.time()\n",
        "L, U = func1(A)\n",
        "endtime = time.time()\n",
        "print(f\"Tempo da LU: {endtime - starttime}\")\n",
        "\n",
        "# Utilizando a função 2 e obtendo o tempo de execução\n",
        "starttime = time.time()\n",
        "L_, U_ = func2(A, p)\n",
        "endtime = time.time()\n",
        "print(f\"Tempo da LU limitada: {endtime - starttime}\")\n",
        "\n",
        "print(np.linalg.norm(L @ U - A))\n",
        "print(np.linalg.norm(L_ @ U_ - A))"
      ]
    },
    {
      "cell_type": "markdown",
      "metadata": {
        "id": "qUZnVEr9B7MS"
      },
      "source": [
        "### Sobre decomposição LU e o Exercício 1\n",
        "\n",
        "A <u>decomposição LU</u> (Método de Doolittle) é uma técnica utilizada para decompor uma matriz $A$ em duas matrizes:\n",
        "\n",
        "* $U$, a matriz triangular superior;\n",
        "* $L$, a matriz triangular inferior.\n",
        "\n",
        "Dessa forma, a matriz $A$ pode ser representada como:\n",
        "\n",
        "* $A = L U$.\n",
        "\n",
        "Tendo a matriz $A_{nn}$, como é o caso do Exercício 1, podemos obter as matrizes $L$ e $U$ da seguinte maneira:\n",
        "\n",
        "* $u_{ij} = a_{ij} - \\sum_{k=1}^{i-1} l_{ik}u_{kj}$ , com $j \\ge i$;\n",
        "\n",
        "* $l_{ij} = \\frac{a_{ij}-\\sum_{k=1}^{j-1} l_{ik}u_{kj}}{u_{jj}}$, com $i > j$.\n",
        "\n",
        "No código, os loops *for* são responsáveis por fazer esse somatório, fazendo a decomposição LU da matriz de entrada $A$.\n",
        "\n",
        "No exemplo do Exercício 1, é calculado o tempo de execução desse método para decompor uma matriz $A$ de tamanho $2000 × 2000$, que possui elementos não nulos apenas em uma vizinhança $p$ da sua diagonal principal. O método é aplicado de duas formas diferentes:\n",
        "\n",
        "* Na função *func1*, é feita a decomposição LU convencional, que é lenta e demora cerca de 20 segundos para este caso. Isso ocorre, pois são considerados todos os valores da matriz $A$, sendo realizados muitos somatórios (*loops*).\n",
        "\n",
        "* Na função *func2*, é feita uma decomposição LU diferente, que leva em conta apenas os valores dentro da vizinhança $p$. Dessa forma, os valores nulos são ignorados, sendo uma função muito mais eficiente e que dura cerca de 0,08 segundos."
      ]
    },
    {
      "cell_type": "markdown",
      "metadata": {
        "id": "LNMQQ46SCUjU"
      },
      "source": [
        "## Exercício 2"
      ]
    },
    {
      "cell_type": "code",
      "execution_count": null,
      "metadata": {
        "id": "taWOm0u8g2bC"
      },
      "outputs": [],
      "source": [
        "# Funções\n",
        "\n",
        "##\n",
        "# Função que calcula a matriz C e o vetor g do método\n",
        "# Gauss-Jacobi\n",
        "##\n",
        "def Gauss_Jacobi(A, b):\n",
        "  n = A.shape[0]\n",
        "  D = np.diagflat(np.diag(A)) # Matriz com os elementos da diagonal principal de A\n",
        "\n",
        "  # Para calcular C, é preciso subtrair de uma matriz identidade o resultado\n",
        "  # de um sistema linear do tipo Dx = A. Ou seja, multiplicamos a matriz A pelo\n",
        "  # inverso da matriz D.\n",
        "  C = np.eye(n) - np.linalg.solve(D, A)\n",
        "\n",
        "  # Para calcular g, basta multiplicar o vetor b pelo inverso da matriz D\n",
        "  g = np.linalg.solve(D, b)\n",
        "\n",
        "  return C, g\n",
        "\n",
        "##\n",
        "# Função que calcula a matriz C e o vetor g do método\n",
        "# Gauss-Seidel\n",
        "##\n",
        "def Gauss_Seidel(A, b):\n",
        "  n = A.shape[0]\n",
        "  L = np.tril(A) # Matriz triangular inferior\n",
        "  R = np.triu(A) # Matriz triangular superior\n",
        "  # Ajuste da triangular superior para que a diagonal seja 0\n",
        "  R = R - np.diagflat(np.diag(R))\n",
        "\n",
        "  # Resolvendo o sistema LC = R, encontramos a matriz C\n",
        "  C = np.linalg.solve(L, (-1)*R)\n",
        "  C = C.round(8)\n",
        "  for i in range(n):\n",
        "    for j in range(n):\n",
        "      if C[i, j] == -0.0:\n",
        "        C[i, j] = 0.0\n",
        "  # Resolvendo o sistema Lg = b, encontramos o vetor g\n",
        "  g = np.linalg.solve(L, b)\n",
        "\n",
        "  return C, g\n",
        "\n",
        "##\n",
        "# Função que testa a convergência da matriz A pro método\n",
        "# de Gauss-Jacobi utilizando o critério das linhas\n",
        "##\n",
        "def GJ_convergence(A):\n",
        "  n = A.shape[0]\n",
        "  rows = np.zeros(n) # As linhas são inicializadas como 0\n",
        "\n",
        "  # Pra cada linha, soma os elementos de A, subtrai-se o elemento\n",
        "  # [i,i] e então divide o resultado pelo elemento [i,i]\n",
        "  for i in range(n):\n",
        "    rows[i] = np.sum(np.absolute(A[i])) - abs(A[i, i])\n",
        "    rows[i] /= abs(A[i, i])\n",
        "\n",
        "  rows = np.sort(rows)\n",
        "\n",
        "  # O retorno é a condicional do maior elemento do critério ser menor que 1.\n",
        "  # Se é menor do que 1, o método irá convergir com a matriz A.\n",
        "  return rows[-1] < 1\n",
        "\n",
        "##\n",
        "# Função que testa a convergência da matriz A pro método\n",
        "# de Gauss-Seidel utilizando o critério das linhas\n",
        "##\n",
        "def GS_convergence(A):\n",
        "  n = A.shape[0]\n",
        "  rows = np.zeros(n) # As linhas são inicializadas como 0\n",
        "\n",
        "  # Calcula-se a primeira linha utilizando o mesmo processo do critério\n",
        "  # de convergência de Gauss-Jacobi\n",
        "  rows[0] = np.sum(np.absolute(A[0])) - abs(A[0, 0])\n",
        "  rows[0] /= abs(A[0, 0])\n",
        "\n",
        "  # Para as linhas seguintes, o cálculo do elemento depende do resultado\n",
        "  # da linha anterior.\n",
        "  for i in range(1, n):\n",
        "    # Para o intervalo [0,i-1] soma-se o produto dos elementos das linhas\n",
        "    # anteriores com os elementos da linha da matriz A\n",
        "    rows[i] += np.sum([rows[j]*abs(A[i, j]) for j in range(i)])\n",
        "    # Os elementos de A no intervalo [i+1, n] são somados e então divide-se\n",
        "    # o resultado por A[i,i]\n",
        "    rows[i] += np.sum([abs(A[i, j]) for j in range(i+1, n)])\n",
        "    rows[i] /= abs(A[i, i])\n",
        "\n",
        "  rows = np.sort(rows)\n",
        "\n",
        "  # O retorno é a condicional do maior elemento do critério ser menor que 1.\n",
        "  # Se é menor do que 1, o método irá convergir com a matriz A.\n",
        "  return rows[-1] < 1\n",
        "\n",
        "##\n",
        "# Função que reolve o sistema x_(n+1) = Cx_(n) + g\n",
        "# A calcula novos valores de x_(n+1) até que se atinja a tolerância definida\n",
        "# e armazena o erro calculado a cada iteração, retornando o x final e o array\n",
        "# de erros.\n",
        "##\n",
        "def solve(x0, C, g, tol):\n",
        "  erroL = []\n",
        "  x = C@x0 + g\n",
        "  erro = np.linalg.norm(x-x0)\n",
        "  erroL.append(erro)\n",
        "\n",
        "  while erro > tol:\n",
        "    x0 = x\n",
        "    x = C@x0 + g\n",
        "    erro = np.linalg.norm(x-x0)\n",
        "    erroL.append(erro)\n",
        "\n",
        "  # Transformando o erro em um array do numpy para utilizar as propriedades\n",
        "  # do numpy\n",
        "  erroL = np.array(erroL)\n",
        "\n",
        "  return x, erroL"
      ]
    },
    {
      "cell_type": "code",
      "execution_count": null,
      "metadata": {
        "colab": {
          "base_uri": "https://localhost:8080/"
        },
        "id": "Z3sVkHt1FJzx",
        "outputId": "9934d330-e8ed-40ee-f64c-a8f6cc7fe935"
      },
      "outputs": [
        {
          "name": "stdout",
          "output_type": "stream",
          "text": [
            "A matriz C e o vetor g obtidos no método Gauss-Jacobi são, respectivamente:\n",
            "C_GJ = \n",
            "[[ 0.          0.5        -0.25        0.          0.          0.        ]\n",
            " [ 0.28571429  0.          0.28571429 -0.14285714  0.          0.        ]\n",
            " [-0.14285714  0.28571429  0.          0.28571429 -0.14285714  0.        ]\n",
            " [ 0.         -0.14285714  0.28571429  0.          0.28571429 -0.14285714]\n",
            " [ 0.          0.         -0.14285714  0.28571429  0.          0.28571429]\n",
            " [ 0.          0.          0.         -0.25        0.5         0.        ]]\n",
            "\n",
            "g_GJ = \n",
            "[-0.25       -0.28571429  0.14285714  0.14285714 -0.28571429 -0.25      ]\n",
            "\n",
            "A matriz C e o vetor g obtidos no método Gauss-Seidel são, respectivamente:\n",
            "C_GS = \n",
            "[[ 0.          0.5        -0.25        0.          0.          0.        ]\n",
            " [ 0.          0.14285714  0.21428571 -0.14285714  0.          0.        ]\n",
            " [ 0.         -0.03061224  0.09693878  0.24489796 -0.14285714  0.        ]\n",
            " [ 0.         -0.02915452 -0.00291545  0.09037901  0.24489796 -0.14285714]\n",
            " [ 0.         -0.00395668 -0.01468138 -0.00916285  0.09037901  0.24489796]\n",
            " [ 0.          0.00531029 -0.00661183 -0.02717618 -0.01603499  0.15816327]]\n",
            "\n",
            "g_GS = \n",
            "[-0.25       -0.35714286  0.07653061  0.21574344 -0.23500625 -0.42143898]\n",
            "\n"
          ]
        }
      ],
      "source": [
        "# Dados:\n",
        "A = np.array([[ 4, -2,  1,  0,  0,  0],\n",
        "              [-2,  7, -2,  1,  0,  0],\n",
        "              [ 1, -2,  7, -2,  1,  0],\n",
        "              [ 0,  1, -2,  7, -2,  1],\n",
        "              [ 0,  0,  1, -2,  7, -2],\n",
        "              [ 0,  0,  0,  1, -2,  4]])\n",
        "b = np.transpose([-1, -2, 1, 1, -2, -1])\n",
        "\n",
        "# a)\n",
        "# Queremos determinar as matrizes C e os vetores g de ambos os métodos de\n",
        "# Gauss-Jacobi e Gauss-Seidel. Calculamos então utilizando as funções definidas\n",
        "# na célula acima.\n",
        "#\n",
        "C_GJ, g_GJ = Gauss_Jacobi(A, b)\n",
        "C_GS, g_GS = Gauss_Seidel(A, b)\n",
        "\n",
        "print(\"A matriz C e o vetor g obtidos no método Gauss-Jacobi são, respectivamente:\")\n",
        "print(f\"C_GJ = \\n{C_GJ}\\n\")\n",
        "print(f\"g_GJ = \\n{g_GJ}\\n\")\n",
        "\n",
        "print(\"A matriz C e o vetor g obtidos no método Gauss-Seidel são, respectivamente:\")\n",
        "print(f\"C_GS = \\n{C_GS}\\n\")\n",
        "print(f\"g_GS = \\n{g_GS}\\n\")"
      ]
    },
    {
      "cell_type": "markdown",
      "metadata": {
        "id": "_iqF3BM31o1X"
      },
      "source": [
        "Para utilizarmos o <u>Método de Gauss-Jacobi</u> devemos determinar a matriz $C_{GJ}$ e o vetor $g_{GJ}$. Para isso utilizamos duas matrizes:\n",
        "\n",
        "\n",
        "*   $A$: a própria matriz fornecida.\n",
        "*   $D$: a matriz que contém apenas os elementos da diagonal principal de $A$ em sua diagonal principal.\n",
        "\n",
        "Dessa forma, podemos utilizar a relação:\n",
        "\n",
        "\\begin{equation}\n",
        "  Ax = b \\\\\n",
        "  (A-D)x^{k} + Dx^{k+1} = b \\\\\n",
        "  x^{k+1} = (I-D^{-1}A)x^{k} + D^{-1}b \\\\\n",
        "  x^{k+1} = Cx^{k} + g\n",
        "\\end{equation}\n",
        "\n",
        "Sendo $I$ a matriz identidade.\n",
        "\n",
        "Por outro lado, para utilizarmos o <u>Método de Gauss-Seidel</u>, devemos decompor a matriz $A$ de forma a obter:\n",
        "\n",
        "*   $L$: matriz diagonal inferior de $A$.\n",
        "*   $R$: matriz diagonal superior de $A$ cuja diagonal principal é nula.\n",
        "\n",
        "Sendo assim, chegamos à relação:\n",
        "\n",
        "\\begin{equation}\n",
        "  Ax = b \\\\\n",
        "  (L+R)x = b \\\\\n",
        "  Lx^{k+1} + Rx^{k} = b \\\\\n",
        "  x^{k+1} = (-L^{-1}R)x^{k} + L^{-1}b \\\\\n",
        "  x^{k+1} = Cx^{k} + g\n",
        "\\end{equation}\n",
        "\n",
        "No exercício 2 a), implementamos as respectivas operações para determinar a matriz e o vetor de cada método nas funções *Gauss_Jacobi* e *Gauss_Seidel*."
      ]
    },
    {
      "cell_type": "code",
      "execution_count": null,
      "metadata": {
        "colab": {
          "base_uri": "https://localhost:8080/"
        },
        "id": "yG30T5MybDa3",
        "outputId": "890601f5-571b-4b4b-a3fe-17852a3cab22"
      },
      "outputs": [
        {
          "name": "stdout",
          "output_type": "stream",
          "text": [
            "Para a matriz A dada, o método de Gauss-Jacobi converge\n",
            "Para a matriz A dada, o método de Gauss-Seidel converge\n"
          ]
        }
      ],
      "source": [
        "# b)\n",
        "# Queremos verificar se os métodos convergem dada a matriz A. Para isso\n",
        "# utilizamos o critério das linhas de Gauss-Jacobi e o seu análogo para\n",
        "# Gauss-Seidel.\n",
        "#\n",
        "if GJ_convergence(A):\n",
        "  GJ_conv = \"converge\"\n",
        "else:\n",
        "  GJ_conv = \"não converge\"\n",
        "\n",
        "print(f\"Para a matriz A dada, o método de Gauss-Jacobi {GJ_conv}\")\n",
        "\n",
        "if GS_convergence(A):\n",
        "  GS_conv = \"converge\"\n",
        "else:\n",
        "  GS_conv = \"não converge\"\n",
        "\n",
        "print(f\"Para a matriz A dada, o método de Gauss-Seidel {GS_conv}\")"
      ]
    },
    {
      "cell_type": "markdown",
      "metadata": {
        "id": "biA3G64G9-TO"
      },
      "source": [
        "Também estamos interessados em determinar se os métodos convergem para uma solução.\n",
        "\n",
        "Para o <u>Método Gauss-Jacobi</u> utilizamos o critério das linhas, que consiste em:\n",
        "*   Somar todo elemento de uma linha da $A$ que não faça parte da diagonal principal;\n",
        "*   Dividir a soma pelo elemento dessa linha que pertence à diagonal principal;\n",
        "*   Comparar o resultado para todas as linhas e, se o maior deles for um certo $\\alpha _i < 1$, então o método converge.\n",
        "\n",
        "\\begin{equation}\n",
        "  \\alpha = \\text{max}_{1 \\le k \\lt n}\\{ \\alpha _k \\} \\\\\n",
        "  \\alpha _k = \\frac{\\sum^{n}_{j=1} |a_{kj}|}{|a_{kk}|}\n",
        "\\end{equation}\n",
        "\n",
        "Para o <u>Método Gauss-Seidel</u> utilizamos o critério de Sassenfeld, que consiste em:\n",
        "*   Somar todo elemento de uma linha da primeira linha de $A$ que não faça parte da diagonal principal;\n",
        "*   Dividir a soma pelo elemento dessa linha que pertence à diagonal principal, obtendo um $\\beta _1$;\n",
        "*   Para as linhas seguintes, todo elemento que esteja anterior à diagonal principal será multiplicado ao $\\beta$ da linha correspondente;\n",
        "*   Os elementos posteriores à diagonal principal são somados normalmente;\n",
        "*   Então todos são divididos pelo elemento da diagonal principal;\n",
        "*   Comparar o resultado para todas as linhas e, se o maior deles for um certo $\\beta _i < 1$, então o método converge.\n",
        "\n",
        "\\begin{equation}\n",
        "  \\beta = \\text{max}_{1 \\le k \\lt n}\\{ \\beta _k \\} \\\\\n",
        "  \\alpha _k = \\frac{\\sum^{k-1}_{j=1} |a_{kj}| \\beta _j\n",
        "    \\sum^{n}_{j=k+1} |a_{kj}|}{|a_{kk}|}\n",
        "\\end{equation}\n",
        "\n",
        "No exercício 2 b), para verificar esses critérios de convergência, utilizamos as funções *GJ_convergence* e *GS_convergence*."
      ]
    },
    {
      "cell_type": "code",
      "execution_count": null,
      "metadata": {
        "colab": {
          "base_uri": "https://localhost:8080/",
          "height": 367
        },
        "id": "Tbb4tBR7boM_",
        "outputId": "768c1748-4a62-42b7-d4b0-546b6f527bbf"
      },
      "outputs": [
        {
          "name": "stdout",
          "output_type": "stream",
          "text": [
            "X_f = [-0.50442478 -0.39823009  0.22123894  0.22123894 -0.39823009 -0.50442478], iterações = 73\n",
            "X_f = [-0.50442478 -0.39823009  0.22123894  0.22123894 -0.39823009 -0.50442478], iterações = 15\n",
            "\n",
            "\n"
          ]
        },
        {
          "data": {
            "image/png": "[encoded data removed]",
            "text/plain": [
              "<Figure size 800x270 with 2 Axes>"
            ]
          },
          "metadata": {},
          "output_type": "display_data"
        }
      ],
      "source": [
        "# c)\n",
        "# Queremos resolver o sistema de equações proposto e analisar a relação\n",
        "# erro X iterações. Em especial o quão mais rápido o resultado de um método\n",
        "# converge para a solução correta em relação ao outro método. Para isso\n",
        "# utilizamos a função de solução do sistema e mostramos a quantidade de\n",
        "# iterações feitas, bem como dois gráficos relacionando o erro com o número\n",
        "# de iterações.\n",
        "#\n",
        "x0 = np.array([1, 0, 0, 0, 0, 0])\n",
        "erro = 1e-8\n",
        "\n",
        "# Gauss-Jacobi\n",
        "x_GJ, erro_GJ = solve(x0, C_GJ, g_GJ, erro)\n",
        "print(f\"X_f = {x_GJ}, iterações = {erro_GJ.shape[0]}\")\n",
        "\n",
        "# Gauss-Seidel\n",
        "x_GS, erro_GS = solve(x0, C_GS, g_GS, erro)\n",
        "print(f\"X_f = {x_GS}, iterações = {erro_GS.shape[0]}\")\n",
        "print(\"\\n\")\n",
        "\n",
        "def plotter(ax, erro1, erro2, xscl, yscl):\n",
        "  plt.xlim(right=xscl)\n",
        "  plt.ylim(top=yscl)\n",
        "  ax.plot(erro1, label='Gauss-Jacobi')\n",
        "  ax.plot(erro2, label='Gauss-Seidel')\n",
        "  ax.set_xlabel('Iterações')\n",
        "  ax.set_ylabel('Erro')\n",
        "  ax.set_title('Convergência dos Métodos')\n",
        "  ax.legend()\n",
        "\n",
        "fig, (ax1, ax2) = plt.subplots(1, 2, figsize=(8, 2.7), layout='constrained')\n",
        "plotter(ax1, erro_GJ, erro_GS, 80, 1.5)\n",
        "plotter(ax2, erro_GJ, erro_GS, 20, 0.2)"
      ]
    },
    {
      "cell_type": "markdown",
      "metadata": {
        "id": "nDN80n3SB2QB"
      },
      "source": [
        "Dos resultados anteriores no item 2 b), vemos que os métodos, de fato, convergem e são, portanto, bons para resolver o sistema. Resta então utilizar as matrizes e vetores determinados no item 2 a) para resolver o problema e comparar a convergência dos métodos por meio do erro a cada iteração.\n",
        "\n",
        "Para isso, utilizamos a função *solve* que armazena o erro calculado a cada iteração e retorna tanto o resultado final quanto a lista com os erros calculados.\n",
        "\n",
        "Em ambos os métodos, o resultado é idêntico. De fato, se ambos convergem, o esperado é que obtenhamos o mesmo resultado. A grande diferença se dá no número de iterações feitas no primeiro (73) comparado ao segundo (15).\n",
        "\n",
        "Se observarmos o gráfico acima, podemos identificar o padrão de convergência que, para o método de _Gauss-Jacobi_ é significativamente mais demorado do que para o _Gauss-Seidel_. Se considerássemos uma tolerância menos estrita de $0.05$, por exemplo, pelo próprio gráfico podemos identificar que em algo entre 3 e 4 iterações seriam suficientes para um resultado apreciável pelo método _Gauss-Seidel_, enquanto pelo método _Gauss-Jacobi_ seriam necessárias em torno de 10 iterações."
      ]
    },
    {
      "cell_type": "markdown",
      "metadata": {
        "id": "t17H6O1TFZ3b"
      },
      "source": [
        "## Exercício 3"
      ]
    },
    {
      "cell_type": "code",
      "execution_count": null,
      "metadata": {
        "id": "UMj-5YE8NNQn"
      },
      "outputs": [],
      "source": [
        "# Definições comuns para os exercícios:\n",
        "\n",
        "def p(x):\n",
        "  return -(x**4) +7.7*(x**3) -(18*(x**2)) + 13.6*x\n",
        "\n",
        "def q(x):\n",
        "  return -(x**2) + 5*x + 0.75"
      ]
    },
    {
      "cell_type": "code",
      "execution_count": null,
      "metadata": {
        "colab": {
          "base_uri": "https://localhost:8080/"
        },
        "id": "lqcgyJiiFcYY",
        "outputId": "66b0771b-7dfb-4ca1-8e41-1d8a1bee3029"
      },
      "outputs": [
        {
          "name": "stdout",
          "output_type": "stream",
          "text": [
            "Uma aproximação para a altura usando o método da Bisseção é de: 6.54675177875518 unidades de medida.\n",
            "Foram feitas 5 iterações.\n"
          ]
        }
      ],
      "source": [
        "# a)\n",
        "# Queremos o impacto com maior elevação, que ocorre quando p(x) = q(x)\n",
        "# ou seja, quando p(x) - q(x) = 0, o que equivale a f(x) = 0 (raiz).\n",
        "# Podemos definir a função f(x), tal que:\n",
        "# f(x) = p(x) - q(x)\n",
        "def f(x):\n",
        "  return -(x**4) + 7.7*(x**3) - (17*(x**2)) + 8.6*x - 0.75\n",
        "# Assim, podemos aplicar o método da bisseção em f.\n",
        "\n",
        "# Método da Bisseção\n",
        "def bissecao(func, a, b, tol):\n",
        "  # Garantindo que há raiz no intervalo [a, b]\n",
        "  if func(a) * func(b) > 0:\n",
        "    print('Os extremos devem ter sinais opostos!')\n",
        "    return\n",
        "\n",
        "  x = (a + b)/2\n",
        "  erro = float('inf')\n",
        "  k = 0 # Número de iterações\n",
        "\n",
        "  while erro > tol and k < 1000: # Valor arbitrário para evitar loop infinito\n",
        "    k += 1\n",
        "    # Encontrando subintervalo\n",
        "    if func(a) * func(x) < 0:\n",
        "      b = x\n",
        "    else:\n",
        "      a = x\n",
        "\n",
        "    # Atualizando valores\n",
        "    x0 = x\n",
        "    x = (a + b)/2\n",
        "    erro = abs(x - x0)\n",
        "\n",
        "  return x, k\n",
        "\n",
        "# Resolução:\n",
        "# Temos:\n",
        "# Intervalo inicial tirado do gráfico dado:\n",
        "a = 3.14\n",
        "b = 3.20\n",
        "precisao = 0.001\n",
        "\n",
        "xRes, k = bissecao(f, a, b, precisao)\n",
        "yRes = p(xRes) # Obtendo altura (dada na colisão, usar p ou q)\n",
        "print('Uma aproximação para a altura usando o método da Bisseção é de: '\n",
        "      + str(yRes) + ' unidades de medida.')\n",
        "print('Foram feitas ' + str(k) + ' iterações.')"
      ]
    },
    {
      "cell_type": "markdown",
      "metadata": {
        "id": "CGyzwBwLEqa0"
      },
      "source": [
        "O <u>Método da Bisseção</u> é uma técnica utilizada para encontrar as raízes de uma função. A partir de um intervalo inicial [a, b], a busca por raízes é feita dividindo esse intervalo em 2 e determinando em qual dos intervalos a raiz está. Isso é feito sucessivas vezes, até que a condição de parada (tolerância) seja satisfeita.\n",
        "\n",
        "No exercício 3 a), implementamos o Método da Bisseção na função *bissecao*. O intervalo inicial foi definido posteriormente e tirado do gráfico dado. Garantimos que haveria raiz no intervalo inicial e que o número de iterações seria $ \\le 5$, conforme foi pedido no enunciado."
      ]
    },
    {
      "cell_type": "code",
      "execution_count": null,
      "metadata": {
        "colab": {
          "base_uri": "https://localhost:8080/"
        },
        "id": "WC_eg_tmjQGh",
        "outputId": "8233a138-cc7f-4597-9086-10b343305202"
      },
      "outputs": [
        {
          "name": "stdout",
          "output_type": "stream",
          "text": [
            "Uma aproximação para a altura usando o método de Newton é de: 6.547203294656269 unidades de medida.\n",
            "Foram feitas 4 iterações.\n"
          ]
        }
      ],
      "source": [
        "# b)\n",
        "# Para aplicar o método de Newton para sistemas,\n",
        "# podemos definir uma função F(x, y) tal que:\n",
        "# F_x(x, y) = p(x) - y;\n",
        "# F_y(x, y) = q(x) - y.\n",
        "# O impacto ocorre quando p(x) e q(x) são iguais.\n",
        "# A altura pode ser escrita como y, e é igual a p(x) no ponto x.\n",
        "# Quando p(x) e q(x) são iguais, há colisão, e\n",
        "# F_x e F_y são iguais a 0 (raiz).\n",
        "\n",
        "# Agora, podemos definir:\n",
        "def F(x):\n",
        "  xRes = p(x[0]) - x[1]\n",
        "  yRes = q(x[0]) - x[1]\n",
        "  return np.array([xRes, yRes])\n",
        "\n",
        "# Precisamos do Jacobiano de x, temos:\n",
        "def Jac(x):\n",
        "  # j00 é a derivada de F_x em x, ou seja, p'(x):\n",
        "  j00 = -4*(x[0]**3) + 23.1*(x[0]**2) - 36*x[0] + 13.6\n",
        "  # j01 é a derivada de F_x em y, ou seja, -1:\n",
        "  j01 = -1\n",
        "  # j10 é a derivada de F_y em x, ou seja, q'(x):\n",
        "  j10 = -2*x[0] + 5\n",
        "  # j11 é a derivada de F_y em y, ou seja, -1:\n",
        "  j11 = -1\n",
        "  return np.array([[j00, j10], [j10, j11]])\n",
        "\n",
        "# Método de Newton para sistemas\n",
        "def newton(f, jac, x, tol):\n",
        "  k = 1 # Número de iterações\n",
        "  while k < 1000: # Valor arbitrário para evitar loop infinito\n",
        "    v = np.linalg.solve(jac(x), f(x))\n",
        "    x = x - v\n",
        "    # Usa-se a norma como condição de parada\n",
        "    if (np.linalg.norm(v) < tol):\n",
        "      return x, k\n",
        "    k += 1\n",
        "  # Não encontrou valor para x\n",
        "  return None, k\n",
        "\n",
        "# Resolução:\n",
        "# Temos:\n",
        "# Chute inicial tirado do gráfico dado:\n",
        "x0 = np.array([3, p(3)])\n",
        "precisao = 0.001\n",
        "\n",
        "res, k = newton(F, Jac, x0, precisao)\n",
        "print('Uma aproximação para a altura usando o método de Newton é de: '\n",
        "      + str(res[1]) + ' unidades de medida.')\n",
        "print('Foram feitas ' + str(k) + ' iterações.')"
      ]
    },
    {
      "cell_type": "markdown",
      "metadata": {
        "id": "4bqdqz6sy1sJ"
      },
      "source": [
        "O <u>Método de Newton para sistemas</u>, assim como o Método da Bisseção, é uma técnica utilizada para encontrar raízes de uma função - agora, uma função vetorial. A partir de um chute inicial $\\vec{x_0}$, até que a condição de parada (tolerância) seja satisfeita, o método estima a raiz sucessivas vezes com base na recorrência:\n",
        "\n",
        "* $J(\\vec{x_k}) . \\vec{v_k} = F(\\vec{x_k})$\n",
        "\n",
        "* $\\vec{x_{k+1}} = \\vec{x_k} - \\vec{v_k}$\n",
        "\n",
        "* onde $J(\\vec{x})$ é o Jacobiano de $F(\\vec{x})$\n",
        "\n",
        "No exercício 3, implementamos o Método de Newton para sistemas na função *newton*. O chute inicial foi definido a partir do gráfico dado e garantimos que ele seria próximo da raiz desejada (impacto com maior elevação)."
      ]
    },
    {
      "cell_type": "markdown",
      "metadata": {
        "id": "Cs9vhZ43jS_h"
      },
      "source": [
        "### Uma comparação entre os métodos utilizados\n",
        "\n",
        "Observando os valores iniciais utilizados em cada método, bem como o número de iterações, podemos estabelecer uma comparação entre eles.\n",
        "\n",
        "* No Método da Bisseção, para garantir um número de iterações $\\le 5$, a escolha de intervalo inicial ([3.14, 3.20]) foi crítica, sendo o intervalo consideravelmente já próximo da raiz desejada.\n",
        "\n",
        "* No Método de Newton para sistemas, a escolha de chute inicial (3) foi mais abrangente, e o número de iterações foi igual a 4, menor do que o outro método.\n",
        "\n",
        "Sendo assim, podemos concluir que o Método de Newton para sistemas consegue ser mais eficiente do que o Método da Bisseção, visto que chegou a um resultado com mesma tolerância em menos iterações e com valor inicial mais abrangente."
      ]
    }
  ],
  "metadata": {
    "colab": {
      "provenance": []
    },
    "kernelspec": {
      "display_name": "Python 3",
      "name": "python3"
    },
    "language_info": {
      "name": "python"
    }
  },
  "nbformat": 4,
  "nbformat_minor": 0
}
